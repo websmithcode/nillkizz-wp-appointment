{
 "cells": [
  {
   "cell_type": "code",
   "execution_count": 53,
   "source": [
    "import json\n",
    "with open('persons_specs.json', 'r') as f:\n",
    "    persons, specs = json.load(f).values()\n",
    "print(len(persons), len(specs))"
   ],
   "outputs": [
    {
     "output_type": "stream",
     "name": "stdout",
     "text": [
      "102 64\n"
     ]
    }
   ],
   "metadata": {}
  },
  {
   "cell_type": "code",
   "execution_count": 54,
   "source": [
    "def upcase_first_letter(s):\n",
    "    if len(s)>0 and type(s[0]) is not int:\n",
    "        return s[0].upper() + s[1:]\n",
    "\n",
    "for person in persons:\n",
    "    for index, i in enumerate(person['education']):\n",
    "        person['education'][index] = upcase_first_letter(\n",
    "            i.strip().replace('\\\\n', '')) if i else None\n",
    "    for index, i in enumerate(person['speciality']):\n",
    "        person['speciality'][index] = upcase_first_letter(\n",
    "            i.strip().replace('\\\\n', '')) if i else None"
   ],
   "outputs": [],
   "metadata": {}
  },
  {
   "cell_type": "code",
   "execution_count": 55,
   "source": [
    "specs_dict = {spec['name'].lower(): {'id': index, 'name': spec['name']} for index, spec in enumerate(specs)}\n",
    "for person in persons:\n",
    "    spec = list(map(lambda s: specs_dict[s.lower()]['id'], person['speciality']))\n",
    "    person['specialty'] = spec\n",
    "    del person['speciality']\n"
   ],
   "outputs": [],
   "metadata": {}
  },
  {
   "cell_type": "code",
   "execution_count": 60,
   "source": [
    "specialties = {spec['id']: spec['name'] for spec in specs_dict.values()}\n",
    "with open('persons_specs_out.json', 'w') as f:\n",
    "    json.dump({'specs': specialties, 'persons': persons}, f)"
   ],
   "outputs": [],
   "metadata": {}
  }
 ],
 "metadata": {
  "orig_nbformat": 4,
  "kernelspec": {
   "name": "python3",
   "display_name": "Python 3.9.7 64-bit"
  },
  "language_info": {
   "name": "python",
   "version": "3.9.7",
   "mimetype": "text/x-python",
   "codemirror_mode": {
    "name": "ipython",
    "version": 3
   },
   "pygments_lexer": "ipython3",
   "nbconvert_exporter": "python",
   "file_extension": ".py"
  },
  "interpreter": {
   "hash": "767d51c1340bd893661ea55ea3124f6de3c7a262a8b4abca0554b478b1e2ff90"
  }
 },
 "nbformat": 4,
 "nbformat_minor": 2
}